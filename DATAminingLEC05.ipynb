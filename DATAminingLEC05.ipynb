{
  "nbformat": 4,
  "nbformat_minor": 0,
  "metadata": {
    "colab": {
      "provenance": []
    },
    "kernelspec": {
      "name": "python3",
      "display_name": "Python 3"
    },
    "language_info": {
      "name": "python"
    }
  },
  "cells": [
    {
      "cell_type": "markdown",
      "source": [
        "最小費用流問題アプリケーション\n",
        "\n",
        "find the way"
      ],
      "metadata": {
        "id": "TUSa1yXfJoXY"
      }
    },
    {
      "cell_type": "code",
      "source": [
        "import networkx as nx\n",
        "import matplotlib.pyplot as plt\n",
        "\n",
        "# グラフを作成\n",
        "G = nx.DiGraph()\n",
        "\n",
        "# エッジを追加関数\n",
        "def add_edge(G, u, v, capacity, cost):\n",
        "    G.add_edge(u, v, capacity=capacity, weight=cost)\n",
        "\n",
        "# ノードとエッジの情報を入力として受け取ります\n",
        "node_count = int(input(\"ノード数を入力: \"))\n",
        "nodes = list(map(int, input(\"ノードリストをスペース区切りで入力: \").split()))\n",
        "demands = list(map(int, input(\"各ノードのデマンドをスペース区切りで入力: \").split()))\n",
        "edge_count = int(input(\"エッジ数を入力: \"))\n",
        "edges = [tuple(map(int, input(str(_)+\"エッジの始点と終点をスペース区切りで入力: \").split())) for _ in range(edge_count)]\n",
        "capacities = list(map(int, input(\"各エッジの容量をスペース区切りで入力: \").split()))\n",
        "costs = list(map(int, input(\"各エッジのコストをスペース区切りで入力: \").split()))\n",
        "\n",
        "# ノードとエッジをグラフに追加\n",
        "for node in nodes:\n",
        "    G.add_node(node,demand=0)\n",
        "\n",
        "for edge, capacity, cost in zip(edges, capacities, costs):\n",
        "    add_edge(G, edge[0], edge[1], capacity, cost)\n",
        "\n",
        "for i in range(len(demands)):\n",
        "    G.nodes[i+1]['demand'] = demands[i] #各ノードのデマンドを追加 負は提供量　正は需給量\n",
        "\n",
        "# 最小費用流を計算\n",
        "flowDict, cost = nx.network_simplex(G)\n",
        "#mincostflow = nx.min_cost_flow(G)\n",
        "print(\"最小費用: \", flowDict)\n",
        "print(\"最小費用流: \", cost)\n",
        "\n",
        "# グラフを描画\n",
        "pos = nx.spring_layout(G)\n",
        "labels = {edge: f'Cap: {G[edge[0]][edge[1]][\"capacity\"]}, Cost: {G[edge[0]][edge[1]][\"weight\"]}' for edge in G.edges()}\n",
        "\n",
        "#nx.draw(G, pos, with_labels=True, node_size=800, node_color=\"lightblue\")\n",
        "nx.draw_networkx_nodes(G, pos, node_size=500) #ノードを描画\n",
        "nx.draw_networkx_edges(G, pos, width=3) #エッジを描画\n",
        "nx.draw_networkx_labels(G, pos) #（ノードの）ラベルを描画\n",
        "nx.draw_networkx_edge_labels(G, pos, edge_labels=labels)\n",
        "plt.show()"
      ],
      "metadata": {
        "colab": {
          "base_uri": "https://localhost:8080/",
          "height": 602
        },
        "outputId": "3920f3b7-9ddb-4c11-d14f-e5db625c62fb",
        "id": "mp2HHbgNJoXY"
      },
      "execution_count": null,
      "outputs": [
        {
          "output_type": "stream",
          "name": "stdout",
          "text": [
            "ノード数を入力: 3\n",
            "ノードリストをスペース区切りで入力: 1 2 3\n",
            "各ノードのデマンドをスペース区切りで入力: -9 0 9\n",
            "エッジ数を入力: 3\n",
            "0エッジの始点と終点をスペース区切りで入力: 1 2\n",
            "1エッジの始点と終点をスペース区切りで入力: 2 3\n",
            "2エッジの始点と終点をスペース区切りで入力: 1 3\n",
            "各エッジの容量をスペース区切りで入力: 5 5 5\n",
            "各エッジのコストをスペース区切りで入力: 5 5 5\n",
            "最小費用流:  65\n",
            "最小費用:  {1: {2: 4, 3: 5}, 2: {3: 4}, 3: {}}\n"
          ]
        },
        {
          "output_type": "display_data",
          "data": {
            "text/plain": [
              "<Figure size 640x480 with 1 Axes>"
            ],
            "image/png": "[encoded data removed]"
          },
          "metadata": {}
        }
      ]
    },
    {
      "cell_type": "markdown",
      "metadata": {
        "id": "XnuDmOuOEBnA"
      },
      "source": [
        "# describe interpersonal relationships"
      ]
    },
    {
      "cell_type": "code",
      "execution_count": null,
      "metadata": {
        "colab": {
          "background_save": true,
          "base_uri": "https://localhost:8080/"
        },
        "id": "iS851d-uD7NC",
        "outputId": "2c9ef8dc-5bcd-413c-9d25-6a6fd63c3505"
      },
      "outputs": [
        {
          "name": "stdout",
          "output_type": "stream",
          "text": [
            "人間関係記録\n",
            "1. Add Relationship\n",
            "2. Save to GML\n",
            "3. Read the Relationship Map\n",
            "4. Draw the Relationship Map\n",
            "5. Quit\n",
            "人間関係記録\n",
            "1. Add Relationship\n",
            "2. Save to GML\n",
            "3. Read the Relationship Map\n",
            "4. Draw the Relationship Map\n",
            "5. Quit\n"
          ]
        }
      ],
      "source": [
        "import networkx as nx\n",
        "import matplotlib.pyplot as plt\n",
        "from networkx.algorithms.community import label_propagation_communities\n",
        "\n",
        "# Create an empty graph to represent interpersonal relationships\n",
        "G = nx.Graph()\n",
        "\n",
        "def add_relationship(person1, person2):\n",
        "    \"\"\"\n",
        "    Function to add a relationship between two people.\n",
        "    \"\"\"\n",
        "    G.add_edge(person1, person2)\n",
        "\n",
        "def save_relationships_to_gml(filename):\n",
        "    \"\"\"\n",
        "    Function to save the interpersonal relationships to a GML file.\n",
        "    \"\"\"\n",
        "    nx.write_gml(G, filename)\n",
        "\n",
        "def main():\n",
        "    while True:\n",
        "        print(\"人間関係記録\")\n",
        "        print(\"1. Add Relationship\")\n",
        "        print(\"2. Save to GML\")\n",
        "        print(\"3. Read the Relationship Map\")\n",
        "        print(\"4. Draw the Relationship Map\")\n",
        "        print(\"5. Quit\")\n",
        "\n",
        "        choice = input(\"Enter your choice: \")\n",
        "\n",
        "        if choice == \"1\":\n",
        "            person1 = input(\"Enter the name of the first person: \")\n",
        "            person2 = input(\"Enter the name of the second person: \")\n",
        "            add_relationship(person1, person2)\n",
        "        elif choice == \"2\":\n",
        "            filename = input(\"Enter the filename to save to (e.g., relationships.gml): \")\n",
        "            save_relationships_to_gml(filename)\n",
        "            print(f\"Interpersonal relationships saved to {filename}\")\n",
        "        elif choice == \"3\":\n",
        "            map = input(\"Enter the name of the gml file: \")\n",
        "            G=nx.readwrite.gml.read_gml(map,  label = 'label')\n",
        "        elif choice == \"4\":\n",
        "            map = input(\"Enter the name of the gml file: \")\n",
        "            G=nx.readwrite.gml.read_gml(map,  label = 'label')\n",
        "            pos = nx.spring_layout(G)\n",
        "            lst_l = label_propagation_communities(G)\n",
        "            color_map_l = ['green'] * nx.number_of_nodes(G)\n",
        "            nodename=list(G.nodes())\n",
        "            counter = 0\n",
        "            nx.draw_networkx_edges(G, pos)\n",
        "            nx.draw_networkx_nodes(G, pos, node_color=color_map_l)\n",
        "            nx.draw_networkx_labels(G, pos)\n",
        "            plt.axis('off')\n",
        "            plt.show()\n",
        "            break\n",
        "\n",
        "        elif choice == \"5\":\n",
        "            break\n",
        "        else:\n",
        "            print(\"失敗した失敗した失敗した失敗した失敗した\")\n",
        "\n",
        "if __name__ == \"__main__\":\n",
        "    main()\n"
      ]
    },
    {
      "cell_type": "markdown",
      "metadata": {
        "id": "-1pgnn5iKPd0"
      },
      "source": [
        "中心性計算"
      ]
    },
    {
      "cell_type": "code",
      "execution_count": null,
      "metadata": {
        "colab": {
          "base_uri": "https://localhost:8080/"
        },
        "id": "sn33xNSbKSbM",
        "outputId": "e5e65fbc-6270-40a6-a302-8499843b6486"
      },
      "outputs": [
        {
          "name": "stdout",
          "output_type": "stream",
          "text": [
            "Enter the name of the gml file: map.gml\n",
            "次数中心性が高い人: skye\n"
          ]
        }
      ],
      "source": [
        "import networkx as nx\n",
        "import matplotlib.pyplot as plt\n",
        "import numpy as np\n",
        "\n",
        "from networkx.algorithms.community import kernighan_lin_bisection\n",
        "map = input(\"Enter the name of the gml file: \")\n",
        "G = nx.read_gml(map)\n",
        "# 次数中心性が高い人\n",
        "top_degree_centrality = max(nx.degree_centrality(G))\n",
        "print(\"次数中心性が高い人:\", top_degree_centrality)\n"
      ]
    }
  ]
}